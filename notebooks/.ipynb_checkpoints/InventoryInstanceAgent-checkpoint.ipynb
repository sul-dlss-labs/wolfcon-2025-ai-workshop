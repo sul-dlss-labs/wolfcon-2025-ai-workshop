{
 "cells": [
  {
   "cell_type": "code",
   "execution_count": null,
   "id": "3d0c126e-4b0c-4d2c-9f19-7936a3934f20",
   "metadata": {},
   "outputs": [],
   "source": [
    "import json\n",
    "import sys\n",
    "\n",
    "import httpx\n",
    "\n",
    "from folioclient import FolioClient\n",
    "from pydantic import BaseModel\n",
    "from pydantic_ai import BinaryContent\n",
    "from pydantic_ai.models.openai import OpenAIModel\n",
    "\n",
    "import nest_asyncio\n",
    "\n",
    "nest_asyncio.apply()\n",
    "\n",
    "sys.path.append(\"/Users/jpnelson/40-49 AI and Machine Learning/41.01 FOLIO edge-ai/src/\")\n",
    "\n",
    "from edge_ai.inventory.agents.instance import agent as instance_agent, Dependencies"
   ]
  },
  {
   "cell_type": "code",
   "execution_count": null,
   "id": "940234fa-bc2d-4b7f-8957-254a72abcaf8",
   "metadata": {},
   "outputs": [],
   "source": [
    "example_prompts = [\n",
    "    \"When I Waked I Cried to Dream Again by A. Van Jordan published in 2023 by W.W. Norton and Company\",\n",
    "    \"Please catalog Aikido in Daily Life by Koichi Tohei, published in 1966 by Rikugei Publishing House in Tokyo\",\n",
    "    \"Motorcycles and the Early Death of Young Men by G.H. Brown-Campbell published in 2010, London, by Harper-Collins Inv.\",\n",
    "    \"The book by Cory Doctorow with the title Red Team, Blue Team published in 2023 by Tor Publishing, New York\",\n",
    "    \"The Illustrated History of APPLES in the United States and Canada Volume 1 A-B by Daniel J. Bussey, Edited by Kent Whealy by JAK KAW Press in Mount Horeb, WI in 2016\"\n",
    "]"
   ]
  }
 ],
 "metadata": {
  "kernelspec": {
   "display_name": "Python 3 (ipykernel)",
   "language": "python",
   "name": "python3"
  },
  "language_info": {
   "codemirror_mode": {
    "name": "ipython",
    "version": 3
   },
   "file_extension": ".py",
   "mimetype": "text/x-python",
   "name": "python",
   "nbconvert_exporter": "python",
   "pygments_lexer": "ipython3",
   "version": "3.12.8"
  }
 },
 "nbformat": 4,
 "nbformat_minor": 5
}
