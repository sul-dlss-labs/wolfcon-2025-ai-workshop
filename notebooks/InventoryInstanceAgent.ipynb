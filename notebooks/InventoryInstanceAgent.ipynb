{
 "cells": [
  {
   "cell_type": "markdown",
   "id": "bcb9a1b3-b700-42f6-9772-5b5ab99514c5",
   "metadata": {},
   "source": [
    "# Inventory Instance Agents \n",
    "Using the [Inventory Instance Agents](https://github.com/folio-labs/edge-ai/blob/main/src/edge_ai/inventory/agents/instance.py) in [edge-ai](https://github.com/folio-labs/edge-ai/). "
   ]
  },
  {
   "cell_type": "code",
   "execution_count": null,
   "id": "3d0c126e-4b0c-4d2c-9f19-7936a3934f20",
   "metadata": {},
   "outputs": [],
   "source": [
    "import json\n",
    "import sys\n",
    "\n",
    "import httpx\n",
    "\n",
    "from folioclient import FolioClient"
   ]
  },
  {
   "cell_type": "code",
   "execution_count": null,
   "id": "940234fa-bc2d-4b7f-8957-254a72abcaf8",
   "metadata": {},
   "outputs": [],
   "source": [
    "example_prompts = [\n",
    "    \"When I Waked I Cried to Dream Again by A. Van Jordan published in 2023 by W.W. Norton and Company\",\n",
    "    \"Please catalog Aikido in Daily Life by Koichi Tohei, published in 1966 by Rikugei Publishing House in Tokyo\",\n",
    "    \"Motorcycles and the Early Death of Young Men by G.H. Brown-Campbell published in 2029, London, by Harper-Collins Inv.\",\n",
    "    \"The book by Cory Doctorow with the title Red Team, Blue Team published in 2023 by Tor Publishing, New York\",\n",
    "    \"The Illustrated History of APPLES in the United States and Canada Volume 1 A-B by Daniel J. Bussey, Edited by Kent Whealy by JAK KAW Press in Mount Horeb, WI in 2016\"\n",
    "]"
   ]
  },
  {
   "cell_type": "markdown",
   "id": "48521f67-ce5b-4c9c-b6a5-e6e42df42ca1",
   "metadata": {},
   "source": [
    "## Adding Inventory Record from a Text Prompt"
   ]
  },
  {
   "cell_type": "code",
   "execution_count": null,
   "id": "136a2a8e-0d28-4c6b-8498-d966b91bcd9e",
   "metadata": {},
   "outputs": [],
   "source": [
    "edge_ai_url = \"http://localhost:8005\""
   ]
  },
  {
   "cell_type": "code",
   "execution_count": null,
   "id": "4b8f8c20-b0a5-495a-a55e-aff33a39f035",
   "metadata": {},
   "outputs": [],
   "source": [
    "query_result = httpx.post(f\"{edge_ai_url}/inventory/instance/generate\",\n",
    "                          json={\n",
    "                              \"text\": example_prompts[0],\n",
    "                              \"model\": \"openai\"\n",
    "                          },\n",
    "                         timeout=120)"
   ]
  },
  {
   "cell_type": "code",
   "execution_count": null,
   "id": "937747ab-a81a-4d43-9b18-09d160be0d07",
   "metadata": {},
   "outputs": [],
   "source": [
    "query_result"
   ]
  },
  {
   "cell_type": "code",
   "execution_count": null,
   "id": "654a5bd3-aa1a-462b-b9d2-2e7ae138dfb8",
   "metadata": {},
   "outputs": [],
   "source": [
    "query_result.json()"
   ]
  },
  {
   "cell_type": "markdown",
   "id": "cb3bb914-3344-4032-95e8-a0a1a921d1d3",
   "metadata": {},
   "source": [
    "## Inventory Record from a File Upload"
   ]
  },
  {
   "cell_type": "code",
   "execution_count": null,
   "id": "4cfb545a-20c9-4b48-8dc0-d3763bbb30d6",
   "metadata": {},
   "outputs": [],
   "source": [
    "with open(\"become-lean-library.png\", \"rb\") as fo:\n",
    "    raw_image = fo.read()"
   ]
  },
  {
   "cell_type": "code",
   "execution_count": null,
   "id": "a6f0c16b-edad-42cd-aa03-dfd4647d7c5f",
   "metadata": {},
   "outputs": [],
   "source": [
    "upload_image_result = httpx.post(f\"{edge_ai_url}/inventory/instance/generate_from_image\",\n",
    "                                 headers={\n",
    "                                     \"Content-Type\": \"image/png\"\n",
    "                                 },\n",
    "                                 files={\"image\": raw_image},\n",
    "                                 timeout=120)"
   ]
  },
  {
   "cell_type": "code",
   "execution_count": null,
   "id": "4e1f073e-b3d7-4ab2-bf0c-4a5bfa461953",
   "metadata": {},
   "outputs": [],
   "source": []
  },
  {
   "cell_type": "markdown",
   "id": "1825b2ee-bea6-4318-8e11-633a59beff61",
   "metadata": {},
   "source": [
    "### Clean-up (Optional)"
   ]
  },
  {
   "cell_type": "code",
   "execution_count": null,
   "id": "d5a2def3-8d05-47fd-9d20-93b06464baa1",
   "metadata": {},
   "outputs": [],
   "source": [
    "snapshot_client = FolioClient(\n",
    "    \"https://folio-snapshot-okapi.dev.folio.org\",\n",
    "    \"diku\",\n",
    "    \"diku_admin\",\n",
    "    \"admin\"\n",
    ")\n",
    "\n",
    "def delete_instances(uuids, client):\n",
    "    for uuid in uuids:\n",
    "        delete_response = httpx.delete(f\"{client.okapi_url}/inventory/instances/{uuid}\",\n",
    "                                   headers=client.okapi_headers)\n",
    "        print(uuid, delete_response)"
   ]
  },
  {
   "cell_type": "code",
   "execution_count": null,
   "id": "1626ec80-8afc-4276-854d-ecf1fb0d42d6",
   "metadata": {},
   "outputs": [],
   "source": []
  }
 ],
 "metadata": {
  "kernelspec": {
   "display_name": "Python 3 (ipykernel)",
   "language": "python",
   "name": "python3"
  },
  "language_info": {
   "codemirror_mode": {
    "name": "ipython",
    "version": 3
   },
   "file_extension": ".py",
   "mimetype": "text/x-python",
   "name": "python",
   "nbconvert_exporter": "python",
   "pygments_lexer": "ipython3",
   "version": "3.12.8"
  }
 },
 "nbformat": 4,
 "nbformat_minor": 5
}
