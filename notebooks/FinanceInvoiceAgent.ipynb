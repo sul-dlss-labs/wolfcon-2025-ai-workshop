{
 "cells": [
  {
   "cell_type": "markdown",
   "id": "38b732a1-804e-4e0e-bb79-bebd5d893343",
   "metadata": {},
   "source": [
    "# Finance Invoice Agent"
   ]
  },
  {
   "cell_type": "code",
   "execution_count": null,
   "id": "99c007ec-2913-4092-9310-474b10902d0b",
   "metadata": {},
   "outputs": [],
   "source": [
    "import json\n",
    "import os\n",
    "import pathlib\n",
    "\n",
    "import httpx"
   ]
  },
  {
   "cell_type": "markdown",
   "id": "e111b0f4-4bb4-4fbf-b81d-a822cb3482d3",
   "metadata": {},
   "source": [
    "## Using the edge-ai API"
   ]
  },
  {
   "cell_type": "code",
   "execution_count": null,
   "id": "3fee34b1-e190-4dbc-a999-5fbd6b1f6fed",
   "metadata": {},
   "outputs": [],
   "source": [
    "with (invoice_dir / \"amazon-invoice.pdf\").open(\"rb\") as fo:\n",
    "    amazon_pdf = fo.read()"
   ]
  },
  {
   "cell_type": "code",
   "execution_count": null,
   "id": "4547ddab-db97-44db-954a-f29bd96e8c8c",
   "metadata": {},
   "outputs": [],
   "source": [
    "result = httpx.post(\"http://localhost:8005/finance/invoice\",\n",
    "           files={\n",
    "               \"pdf\": amazon_pdf\n",
    "           },\n",
    "            timeout=300)"
   ]
  },
  {
   "cell_type": "markdown",
   "id": "ee16fd05-c780-414a-9089-8e2841f8a74b",
   "metadata": {},
   "source": [
    "## Using the edge-ai directly"
   ]
  },
  {
   "cell_type": "code",
   "execution_count": null,
   "id": "822a5a23-89e9-4942-bcc6-b840fe98e2c9",
   "metadata": {},
   "outputs": [],
   "source": [
    "import json\n",
    "import sys\n",
    "\n",
    "from pydantic_ai import BinaryContent\n",
    "from pydantic_ai.models.openai import OpenAIChatModel\n",
    "from pydantic_ai.providers.openai import OpenAIProvider\n",
    "\n",
    "import nest_asyncio\n",
    "\n",
    "nest_asyncio.apply()\n",
    "\n",
    "model = OpenAIChatModel('gpt-4o')\n",
    "\n",
    "sys.path.append(\"{path-to-edge-ai-src}\")\n",
    "\n",
    "from edge_ai.finance.agents.invoice import agent, Dependencies"
   ]
  },
  {
   "cell_type": "code",
   "execution_count": null,
   "id": "62dcfdf2-5582-4d79-bc7a-dcbdbc97d9c7",
   "metadata": {},
   "outputs": [],
   "source": [
    "with open(\"harrassowitz-invoice.pdf\",\"rb\") as fo:\n",
    "    harrassowitz_pdf = fo.read()"
   ]
  },
  {
   "cell_type": "code",
   "execution_count": null,
   "id": "ac49df07-82d3-4d72-82fd-ee0f4ca90e5c",
   "metadata": {},
   "outputs": [],
   "source": [
    "invoice_result = agent.run_sync(\n",
    "    [BinaryContent(data=raw_pdf, media_type='application/pdf')]\n",
    ")"
   ]
  },
  {
   "cell_type": "code",
   "execution_count": null,
   "id": "e8558e40-791c-4d6a-bd78-43d044590e26",
   "metadata": {},
   "outputs": [],
   "source": [
    "json.loads(invoice_result.output.record)"
   ]
  }
 ],
 "metadata": {
  "kernelspec": {
   "display_name": "Python 3 (ipykernel)",
   "language": "python",
   "name": "python3"
  },
  "language_info": {
   "codemirror_mode": {
    "name": "ipython",
    "version": 3
   },
   "file_extension": ".py",
   "mimetype": "text/x-python",
   "name": "python",
   "nbconvert_exporter": "python",
   "pygments_lexer": "ipython3",
   "version": "3.12.8"
  }
 },
 "nbformat": 4,
 "nbformat_minor": 5
}
