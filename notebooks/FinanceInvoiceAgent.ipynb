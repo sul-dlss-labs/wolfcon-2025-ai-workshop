{
 "cells": [
  {
   "cell_type": "code",
   "execution_count": null,
   "id": "99c007ec-2913-4092-9310-474b10902d0b",
   "metadata": {},
   "outputs": [],
   "source": [
    "import json\n",
    "import os\n",
    "import pathlib\n",
    "\n",
    "from pydantic_ai import BinaryContent\n",
    "from pydantic_ai.models.openai import OpenAIChatModel\n",
    "from pydantic_ai.providers.openai import OpenAIProvider\n",
    "\n",
    "import nest_asyncio\n",
    "\n",
    "nest_asyncio.apply()\n",
    "\n",
    "invoice_dir = pathlib.Path(\"/Users/jpnelson/40-49 AI and Machine Learning/41.03 FOLIO AI Notebooks/02025/08\")\n",
    "model = OpenAIChatModel('gpt-4o')"
   ]
  }
 ],
 "metadata": {
  "kernelspec": {
   "display_name": "Python 3 (ipykernel)",
   "language": "python",
   "name": "python3"
  },
  "language_info": {
   "codemirror_mode": {
    "name": "ipython",
    "version": 3
   },
   "file_extension": ".py",
   "mimetype": "text/x-python",
   "name": "python",
   "nbconvert_exporter": "python",
   "pygments_lexer": "ipython3",
   "version": "3.12.8"
  }
 },
 "nbformat": 4,
 "nbformat_minor": 5
}
