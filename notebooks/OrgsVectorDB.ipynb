{
 "cells": [
  {
   "cell_type": "markdown",
   "id": "ac7234e9-be8c-4908-b7ec-a0b502629640",
   "metadata": {},
   "source": [
    "# Vector Database for Snapshot Organizations"
   ]
  },
  {
   "cell_type": "code",
   "execution_count": null,
   "id": "c8cb9c79-732c-4e8f-b4e7-839a0eca4bf3",
   "metadata": {},
   "outputs": [],
   "source": [
    "from pymilvus import MilvusClient, model"
   ]
  },
  {
   "cell_type": "code",
   "execution_count": null,
   "id": "9e5d3c24-dd5d-4952-9423-fa68394b9631",
   "metadata": {},
   "outputs": [],
   "source": [
    "from folioclient import FolioClient"
   ]
  },
  {
   "cell_type": "code",
   "execution_count": null,
   "id": "155adfab-c0c3-4ba6-859e-dd93eb7990ac",
   "metadata": {},
   "outputs": [],
   "source": [
    "snapshot_client = FolioClient(\"https://folio-snapshot-okapi.dev.folio.org/\",\n",
    "                              \"diku\",\n",
    "                              \"diku_admin\",\n",
    "                              \"admin\")"
   ]
  },
  {
   "cell_type": "code",
   "execution_count": null,
   "id": "927aa427-b2dc-4d8a-b586-a223dfd261e7",
   "metadata": {},
   "outputs": [],
   "source": [
    "orgs = snapshot_client.organizations"
   ]
  },
  {
   "cell_type": "code",
   "execution_count": null,
   "id": "49ea41d4-fef2-45d4-b53e-01c4eefce099",
   "metadata": {},
   "outputs": [],
   "source": [
    "len(orgs)"
   ]
  },
  {
   "cell_type": "code",
   "execution_count": null,
   "id": "c4a01d01-784a-4878-b589-7174840e9626",
   "metadata": {},
   "outputs": [],
   "source": [
    "names_addrs = []\n",
    "for row in orgs:\n",
    "    field = f\"{row['name']}\\n\"\n",
    "    if len(row['addresses']) > 0:\n",
    "        address = row['addresses'][0]\n",
    "        field += f\"{address['addressLine1']}\\n\"\n",
    "        if len(address.get('addressLine2', '')) > 0:\n",
    "            field += f\"{address['addressLine2']}\\n\"\n",
    "        field += f\"{address['city']},\"\n",
    "        if len(address['stateRegion']) > 0:\n",
    "            field += f\" {address['stateRegion']}, \"\n",
    "        field += f\" {address['zipCode']} {address['country']}\"\n",
    "    names_addrs.append(field)"
   ]
  },
  {
   "cell_type": "code",
   "execution_count": null,
   "id": "badaf654-c60a-4592-b6d7-ba76712233f5",
   "metadata": {},
   "outputs": [],
   "source": [
    "names_addrs[4]"
   ]
  },
  {
   "cell_type": "markdown",
   "id": "beaf0328-9483-42d9-8c93-44604d706262",
   "metadata": {},
   "source": [
    "## Milvus Client setup"
   ]
  },
  {
   "cell_type": "code",
   "execution_count": null,
   "id": "fb021db9-33e0-4c76-ae28-59bf148bc19f",
   "metadata": {},
   "outputs": [],
   "source": [
    "from pymilvus import MilvusClient"
   ]
  },
  {
   "cell_type": "code",
   "execution_count": null,
   "id": "01a5e87e-6c60-4849-8345-303526082ef3",
   "metadata": {},
   "outputs": [],
   "source": [
    "embedding_fn = model.DefaultEmbeddingFunction()"
   ]
  },
  {
   "cell_type": "code",
   "execution_count": null,
   "id": "2a536bbd-a81f-44a0-87ec-6564c9ad2e4c",
   "metadata": {},
   "outputs": [],
   "source": [
    "client = MilvusClient(\"orgs.db\")"
   ]
  },
  {
   "cell_type": "markdown",
   "id": "796014db-dcb5-4609-bbd5-b3841028e048",
   "metadata": {},
   "source": [
    "### Create an Orgs Collection"
   ]
  },
  {
   "cell_type": "code",
   "execution_count": null,
   "id": "f93dc5df-9973-444e-8c60-9b1827b9c5f3",
   "metadata": {},
   "outputs": [],
   "source": [
    "client.create_collection(\n",
    "    collection_name=\"folio_orgs\",\n",
    "    dimension=768,  # The vectors we will use in this demo has 768 dimensions\n",
    ")"
   ]
  },
  {
   "cell_type": "markdown",
   "id": "9e2e4e9c-373b-4b42-a8f5-e39212eb3fdf",
   "metadata": {},
   "source": [
    "### Generate 769 dimension vector for each Org's Name and Addresses"
   ]
  },
  {
   "cell_type": "code",
   "execution_count": null,
   "id": "366d9ff6-c6de-4db0-b090-f4e7075d237a",
   "metadata": {},
   "outputs": [],
   "source": [
    "org_vectors = embedding_fn.encode_documents(names_addrs)"
   ]
  },
  {
   "cell_type": "code",
   "execution_count": null,
   "id": "47ed5dfc-8bbf-485d-9a4e-275d1a7cdc45",
   "metadata": {},
   "outputs": [],
   "source": [
    "org_vectors[0]"
   ]
  },
  {
   "cell_type": "markdown",
   "id": "62632b09-a9f1-4ddc-ab3e-003e92aad399",
   "metadata": {},
   "source": [
    "### Add Metadata for each Document"
   ]
  },
  {
   "cell_type": "code",
   "execution_count": null,
   "id": "db671ca0-636a-4d57-b21c-1765afb44b21",
   "metadata": {},
   "outputs": [],
   "source": [
    "data = []\n",
    "counter = 0\n",
    "for org, vector in zip(orgs, org_vectors):\n",
    "    data.append(\n",
    "        { \"id\": counter,\n",
    "          \"uuid\": org['id'],\n",
    "          \"name\": org['name'],\n",
    "          \"vector\": vector\n",
    "        }\n",
    "    )\n",
    "    counter += 1"
   ]
  },
  {
   "cell_type": "code",
   "execution_count": null,
   "id": "9f8df8c6-53bc-495e-b28b-25e00f09c605",
   "metadata": {},
   "outputs": [],
   "source": [
    "print(f\"Data size is {len(data)} entities, each with the following keys: {data[0].keys()}\")\n",
    "print(\"Vector dim:\", len(data[0][\"vector\"]))"
   ]
  },
  {
   "cell_type": "markdown",
   "id": "1655eb1c-53c6-4499-8172-93f4241a4606",
   "metadata": {},
   "source": [
    "### Add Organizations to the Collection"
   ]
  },
  {
   "cell_type": "code",
   "execution_count": null,
   "id": "e56772f0-8a86-42fe-a3db-87c06e37a129",
   "metadata": {},
   "outputs": [],
   "source": [
    "result = client.insert(\"folio_orgs\", data=data)\n",
    "print(result)"
   ]
  },
  {
   "cell_type": "markdown",
   "id": "80284b8e-ff8f-4476-8660-2f4448bf9e62",
   "metadata": {},
   "source": [
    "### Vector Search"
   ]
  },
  {
   "cell_type": "code",
   "execution_count": null,
   "id": "4e84bbd8-58f2-4375-bc25-7abb8f422341",
   "metadata": {},
   "outputs": [],
   "source": [
    "query_vectors = embedding_fn.encode_queries([\"Amazon Capital Services\"])"
   ]
  },
  {
   "cell_type": "code",
   "execution_count": null,
   "id": "c7630942-0165-4d59-96c9-bdf3e09d5d17",
   "metadata": {},
   "outputs": [],
   "source": [
    "query_result = client.search(\n",
    "    collection_name=\"folio_orgs\",\n",
    "    data=query_vectors,\n",
    "    limit=2,\n",
    "    output_fields=[\"uuid\", \"name\"]\n",
    ")"
   ]
  },
  {
   "cell_type": "code",
   "execution_count": null,
   "id": "0e8b21a0-6b91-4e51-b7cc-40deb6795ee8",
   "metadata": {},
   "outputs": [],
   "source": [
    "query_result"
   ]
  }
 ],
 "metadata": {
  "kernelspec": {
   "display_name": "Python 3 (ipykernel)",
   "language": "python",
   "name": "python3"
  },
  "language_info": {
   "codemirror_mode": {
    "name": "ipython",
    "version": 3
   },
   "file_extension": ".py",
   "mimetype": "text/x-python",
   "name": "python",
   "nbconvert_exporter": "python",
   "pygments_lexer": "ipython3",
   "version": "3.12.8"
  }
 },
 "nbformat": 4,
 "nbformat_minor": 5
}
